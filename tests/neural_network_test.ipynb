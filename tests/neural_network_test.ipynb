{
 "cells": [
  {
   "cell_type": "code",
   "execution_count": 1,
   "id": "0c300166",
   "metadata": {},
   "outputs": [],
   "source": [
    "%run ../methodes/neural_network_definition.ipynb import Neural_Network_\n",
    "import pandas as pd\n",
    "\n",
    "df_train = pd.read_csv('../leaf-classification/train.csv/train.csv').set_index('id')\n",
    "df_test = pd.read_csv('../leaf-classification/test.csv/test.csv').set_index('id')"
   ]
  },
  {
   "cell_type": "code",
   "execution_count": 2,
   "id": "f682bef8",
   "metadata": {},
   "outputs": [],
   "source": [
    "# La constante multiplicateur (alpha) du terme de régularisation doit être > 0\n",
    "alphas = np.linspace(0.000001, 0.1, 10)"
   ]
  },
  {
   "cell_type": "code",
   "execution_count": 3,
   "id": "2065ac30",
   "metadata": {},
   "outputs": [],
   "source": [
    "# Initialisation des meilleurs paramètres\n",
    "err_min = 100\n",
    "best_alpha = -2"
   ]
  },
  {
   "cell_type": "code",
   "execution_count": 4,
   "id": "bc8d0237",
   "metadata": {},
   "outputs": [],
   "source": [
    "# Initialisation des tableaux pour l'analyse des données\n",
    "df_alpha_train = pd.Series(0, index=alphas)\n",
    "df_alpha_test = pd.Series(0, index=alphas)"
   ]
  },
  {
   "cell_type": "code",
   "execution_count": null,
   "id": "07abd564",
   "metadata": {},
   "outputs": [],
   "source": [
    "%%capture --no-display\n",
    "from sklearn.model_selection import KFold\n",
    "\n",
    "# Pour obtenir de bons résultats on utilise la k-fold cross-validation\n",
    "kf = KFold(n_splits=10)\n",
    "\n",
    "for alpha in alphas:\n",
    "            \n",
    "\t# Initialisation de l'erreur moyenne\n",
    "    err_train = 0\n",
    "    err_test = 0\n",
    "           \n",
    "    # k-fold cross-validation sur les données d'entraînement\n",
    "    for train, test in kf.split(df_train):\n",
    "        x_train = df_train.iloc[train].drop(columns=['species'])\n",
    "        t_train = df_train.iloc[train]['species']\n",
    "        x_test = df_train.iloc[test].drop(columns=['species'])\n",
    "        t_test = df_train.iloc[test]['species']\n",
    "            \n",
    "        # Initialisation du perceptron\n",
    "        neural_network = Neural_Network_(alpha)\n",
    "\n",
    "        # Entraînement\n",
    "        neural_network.entrainement(x_train, t_train)\n",
    "\n",
    "        # Calcul de l'erreur d'entraînement\n",
    "        pred_train = neural_network.prediction(x_train)\n",
    "        err_train += neural_network.erreur(t_train, pred_train)\n",
    "\n",
    "        # Calcul de l'erreur de test\n",
    "        pred_test = neural_network.prediction(x_test)\n",
    "        err_test += neural_network.erreur(t_test, pred_test)\n",
    "\n",
    "    # Calcul de l'erreur totale\n",
    "    err_train /= 10\n",
    "    err_test /= 10\n",
    "    err = (err_train + err_test) / 2 \n",
    "\n",
    "    # On garde les données en mémoire\n",
    "    df_alpha_train[alpha] = err_train\n",
    "    df_alpha_test[alpha] = err_test\n",
    "                \n",
    "    # On met à jour les meilleurs paramètres\n",
    "    if err < err_min:\n",
    "        err_min = err\n",
    "        best_alpha = alpha"
   ]
  },
  {
   "cell_type": "code",
   "execution_count": null,
   "id": "9109132c",
   "metadata": {},
   "outputs": [],
   "source": [
    "import matplotlib.pyplot as plt\n",
    "# Représentation graphique\n",
    "\n",
    "# Evolution de l'erreur moyenne en fonction de alpha\n",
    "plt.plot(df_alpha_train.index, df_alpha_train, color='green', label='train')\n",
    "plt.plot(df_alpha_test.index, df_alpha_test, color='red', label='test')\n",
    "plt.xlabel('alpha')\n",
    "plt.ylabel('erreur')\n",
    "plt.legend(loc=\"upper left\")"
   ]
  },
  {
   "cell_type": "code",
   "execution_count": null,
   "id": "6729c94b",
   "metadata": {},
   "outputs": [],
   "source": [
    "print('err_min : ', err_min, ' | alpha : ', best_alpha)"
   ]
  }
 ],
 "metadata": {
  "kernelspec": {
   "display_name": "Python 3 (ipykernel)",
   "language": "python",
   "name": "python3"
  },
  "language_info": {
   "codemirror_mode": {
    "name": "ipython",
    "version": 3
   },
   "file_extension": ".py",
   "mimetype": "text/x-python",
   "name": "python",
   "nbconvert_exporter": "python",
   "pygments_lexer": "ipython3",
   "version": "3.10.2"
  }
 },
 "nbformat": 4,
 "nbformat_minor": 5
}
