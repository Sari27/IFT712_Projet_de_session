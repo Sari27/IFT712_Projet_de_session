{
 "cells": [
  {
   "cell_type": "code",
   "execution_count": 1,
   "id": "6cf29bdf",
   "metadata": {
    "pycharm": {
     "name": "#%%\n"
    }
   },
   "outputs": [],
   "source": [
    "# On récupère les dataframes d'entraînement et de tests stockés en mémoire\n",
    "%store -r df_train\n",
    "%store -r df_test\n",
    "\n",
    "# On sépare les données de leur classe\n",
    "x_train = df_train.drop(columns=['species'])\n",
    "t_train = df_train['species']"
   ]
  },
  {
   "cell_type": "code",
   "execution_count": 2,
   "id": "da52ef67",
   "metadata": {
    "pycharm": {
     "name": "#%%\n"
    }
   },
   "outputs": [],
   "source": [
    "# On récupère les meilleurs hyperparamètres trouvés pour chaque méthode\n",
    "\n",
    "# Perceptron\n",
    "%store -r perceptron_best_penalty\n",
    "%store -r perceptron_best_learning_rate\n",
    "%store -r perceptron_best_alpha\n",
    "\n",
    "# Neural Network\n",
    "%store -r neural_network_best_alpha\n",
    "\n",
    "# K Neighbors\n",
    "%store -r k_neighbors_best_n\n",
    "%store -r k_neighbors_best_p\n",
    "\n",
    "# Support Vector\n",
    "%store -r support_vector_best_c\n",
    "\n",
    "# Decision Tree\n",
    "%store -r decision_tree_best_criterion\n",
    "%store -r decision_tree_best_ccp_alpha\n",
    "\n",
    "# Ada Boost\n",
    "%store -r ada_boost_best_n_estimators\n",
    "%store -r ada_boost_best_learning_rate"
   ]
  },
  {
   "cell_type": "code",
   "execution_count": 3,
   "id": "2912a13f",
   "metadata": {
    "pycharm": {
     "name": "#%%\n"
    }
   },
   "outputs": [
    {
     "name": "stderr",
     "output_type": "stream",
     "text": [
      "C:\\Python310\\lib\\site-packages\\sklearn\\neural_network\\_multilayer_perceptron.py:702: ConvergenceWarning: Stochastic Optimizer: Maximum iterations (200) reached and the optimization hasn't converged yet.\n",
      "  warnings.warn(\n"
     ]
    }
   ],
   "source": [
    "# On applique chaque entraînement sur le dataset d'entraînement\n",
    "\n",
    "# Perceptron\n",
    "%run ../methodes/perceptron_definition.ipynb import Perceptron_\n",
    "perceptron = Perceptron_(perceptron_best_penalty, perceptron_best_learning_rate, perceptron_best_alpha)\n",
    "perceptron.train(x_train, t_train)\n",
    "\n",
    "# Neural Network\n",
    "%run ../methodes/neural_network_definition.ipynb import Neural_Network_\n",
    "neural_network = Neural_Network_(neural_network_best_alpha)\n",
    "neural_network.train(x_train, t_train)\n",
    "\n",
    "# K Neighbors\n",
    "%run ../methodes/k_neighbors_definition.ipynb import K_Neighbors_\n",
    "k_neighbors = K_Neighbors_(k_neighbors_best_n, k_neighbors_best_p)\n",
    "k_neighbors.train(x_train, t_train)\n",
    "\n",
    "# Support Vector\n",
    "%run ../methodes/support_vector_definition.ipynb import Support_Vector_\n",
    "support_vector = Support_Vector_(support_vector_best_c)\n",
    "support_vector.train(x_train, t_train)\n",
    "\n",
    "# Decision Tree\n",
    "%run ../methodes/decision_tree_definition.ipynb import Decision_Tree_\n",
    "decision_tree = Decision_Tree_(decision_tree_best_criterion, decision_tree_best_ccp_alpha)\n",
    "decision_tree.train(x_train, t_train)\n",
    "\n",
    "# Ada Boost\n",
    "%run ../methodes/ada_boost_definition.ipynb import Ada_Boost_\n",
    "ada_boost = Ada_Boost_(ada_boost_best_n_estimators, ada_boost_best_learning_rate)\n",
    "ada_boost.train(x_train, t_train)"
   ]
  },
  {
   "cell_type": "code",
   "execution_count": 4,
   "id": "8ea0520b",
   "metadata": {
    "pycharm": {
     "name": "#%%\n"
    }
   },
   "outputs": [],
   "source": [
    "# On effectue la prédiction avec chaque méthode sur l'ensemble de test\n",
    "\n",
    "# Perceptron\n",
    "perceptron_pred = perceptron.predict(df_test)\n",
    "\n",
    "# Neural Network\n",
    "neural_network_pred = neural_network.predict(df_test)\n",
    "\n",
    "# K Neighbors\n",
    "k_neighbors_pred = k_neighbors.predict(df_test)\n",
    "\n",
    "# Support Vector\n",
    "support_vector_pred = support_vector.predict(df_test)\n",
    "\n",
    "# Decision Tree\n",
    "decision_tree_pred = decision_tree.predict(df_test)\n",
    "\n",
    "# Ada Boost\n",
    "ada_boost_pred = ada_boost.predict(df_test)"
   ]
  },
  {
   "cell_type": "code",
   "execution_count": 5,
   "id": "24a39ad3",
   "metadata": {
    "pycharm": {
     "name": "#%%\n"
    }
   },
   "outputs": [],
   "source": [
    "# Création d'un dataframe qui contient les prédictions de toutes les méthodes\n",
    "import pandas as pd\n",
    "all_pred_df = pd.DataFrame([perceptron_pred, neural_network_pred, k_neighbors_pred, support_vector_pred, \n",
    "                            decision_tree_pred, ada_boost_pred], index = ['perceptron', 'neural network',\n",
    "                                                                           'k_neighbors', 'support vector',\n",
    "                                                                           'decision tree', 'ada boost'])\n",
    "all_pred_df = all_pred_df.transpose()\n",
    "\n",
    "# On crée une colonne qui contient les prédictions les plus présentes pour chaque donnée\n",
    "all_pred_df['general'] = all_pred_df.mode(axis=1)[0]"
   ]
  },
  {
   "cell_type": "code",
   "execution_count": 6,
   "id": "ecf3bf29",
   "metadata": {
    "pycharm": {
     "name": "#%%\n"
    }
   },
   "outputs": [],
   "source": [
    "# On crée une matrice de confusion entre chaque méthode\n",
    "# L'élément i,j représente le nombre de fois moyen que les méthodes i et j on prédit la même classe\n",
    "# On prend également en compte la colonne 'general'\n",
    "\n",
    "confusion_matrix = pd.DataFrame(0, index=all_pred_df.columns, columns=all_pred_df.columns)\n",
    "for index in confusion_matrix.index:\n",
    "    for column in confusion_matrix.columns:\n",
    "        confusion_matrix[column][index] = np.where(all_pred_df[column] == all_pred_df[index])[0].shape[0]\n",
    "confusion_matrix /= all_pred_df.shape[0] "
   ]
  },
  {
   "cell_type": "code",
   "execution_count": 7,
   "id": "07305437",
   "metadata": {
    "pycharm": {
     "name": "#%%\n"
    }
   },
   "outputs": [
    {
     "data": {
      "text/html": [
       "<div>\n",
       "<style scoped>\n",
       "    .dataframe tbody tr th:only-of-type {\n",
       "        vertical-align: middle;\n",
       "    }\n",
       "\n",
       "    .dataframe tbody tr th {\n",
       "        vertical-align: top;\n",
       "    }\n",
       "\n",
       "    .dataframe thead th {\n",
       "        text-align: right;\n",
       "    }\n",
       "</style>\n",
       "<table border=\"1\" class=\"dataframe\">\n",
       "  <thead>\n",
       "    <tr style=\"text-align: right;\">\n",
       "      <th></th>\n",
       "      <th>perceptron</th>\n",
       "      <th>neural network</th>\n",
       "      <th>k_neighbors</th>\n",
       "      <th>support vector</th>\n",
       "      <th>decision tree</th>\n",
       "      <th>ada boost</th>\n",
       "      <th>general</th>\n",
       "    </tr>\n",
       "  </thead>\n",
       "  <tbody>\n",
       "    <tr>\n",
       "      <th>perceptron</th>\n",
       "      <td>1.00</td>\n",
       "      <td>0.93</td>\n",
       "      <td>0.93</td>\n",
       "      <td>0.92</td>\n",
       "      <td>0.55</td>\n",
       "      <td>0.77</td>\n",
       "      <td>0.93</td>\n",
       "    </tr>\n",
       "    <tr>\n",
       "      <th>neural network</th>\n",
       "      <td>0.93</td>\n",
       "      <td>1.00</td>\n",
       "      <td>0.99</td>\n",
       "      <td>0.99</td>\n",
       "      <td>0.57</td>\n",
       "      <td>0.81</td>\n",
       "      <td>0.99</td>\n",
       "    </tr>\n",
       "    <tr>\n",
       "      <th>k_neighbors</th>\n",
       "      <td>0.93</td>\n",
       "      <td>0.99</td>\n",
       "      <td>1.00</td>\n",
       "      <td>0.99</td>\n",
       "      <td>0.57</td>\n",
       "      <td>0.81</td>\n",
       "      <td>0.99</td>\n",
       "    </tr>\n",
       "    <tr>\n",
       "      <th>support vector</th>\n",
       "      <td>0.92</td>\n",
       "      <td>0.99</td>\n",
       "      <td>0.99</td>\n",
       "      <td>1.00</td>\n",
       "      <td>0.56</td>\n",
       "      <td>0.82</td>\n",
       "      <td>0.99</td>\n",
       "    </tr>\n",
       "    <tr>\n",
       "      <th>decision tree</th>\n",
       "      <td>0.55</td>\n",
       "      <td>0.57</td>\n",
       "      <td>0.57</td>\n",
       "      <td>0.56</td>\n",
       "      <td>1.00</td>\n",
       "      <td>0.52</td>\n",
       "      <td>0.57</td>\n",
       "    </tr>\n",
       "    <tr>\n",
       "      <th>ada boost</th>\n",
       "      <td>0.77</td>\n",
       "      <td>0.81</td>\n",
       "      <td>0.81</td>\n",
       "      <td>0.82</td>\n",
       "      <td>0.52</td>\n",
       "      <td>1.00</td>\n",
       "      <td>0.81</td>\n",
       "    </tr>\n",
       "    <tr>\n",
       "      <th>general</th>\n",
       "      <td>0.93</td>\n",
       "      <td>0.99</td>\n",
       "      <td>0.99</td>\n",
       "      <td>0.99</td>\n",
       "      <td>0.57</td>\n",
       "      <td>0.81</td>\n",
       "      <td>1.00</td>\n",
       "    </tr>\n",
       "  </tbody>\n",
       "</table>\n",
       "</div>"
      ],
      "text/plain": [
       "                perceptron  neural network  k_neighbors  support vector  \\\n",
       "perceptron            1.00            0.93         0.93            0.92   \n",
       "neural network        0.93            1.00         0.99            0.99   \n",
       "k_neighbors           0.93            0.99         1.00            0.99   \n",
       "support vector        0.92            0.99         0.99            1.00   \n",
       "decision tree         0.55            0.57         0.57            0.56   \n",
       "ada boost             0.77            0.81         0.81            0.82   \n",
       "general               0.93            0.99         0.99            0.99   \n",
       "\n",
       "                decision tree  ada boost  general  \n",
       "perceptron               0.55       0.77     0.93  \n",
       "neural network           0.57       0.81     0.99  \n",
       "k_neighbors              0.57       0.81     0.99  \n",
       "support vector           0.56       0.82     0.99  \n",
       "decision tree            1.00       0.52     0.57  \n",
       "ada boost                0.52       1.00     0.81  \n",
       "general                  0.57       0.81     1.00  "
      ]
     },
     "execution_count": 7,
     "metadata": {},
     "output_type": "execute_result"
    }
   ],
   "source": [
    "# Affichage des résultats\n",
    "pd.options.display.float_format = '{:,.2f}'.format\n",
    "confusion_matrix"
   ]
  },
  {
   "cell_type": "code",
   "execution_count": null,
   "id": "bedae8d1",
   "metadata": {
    "pycharm": {
     "name": "#%%\n"
    }
   },
   "outputs": [],
   "source": []
  }
 ],
 "metadata": {
  "kernelspec": {
   "display_name": "Python 3 (ipykernel)",
   "language": "python",
   "name": "python3"
  },
  "language_info": {
   "codemirror_mode": {
    "name": "ipython",
    "version": 3
   },
   "file_extension": ".py",
   "mimetype": "text/x-python",
   "name": "python",
   "nbconvert_exporter": "python",
   "pygments_lexer": "ipython3",
   "version": "3.10.2"
  }
 },
 "nbformat": 4,
 "nbformat_minor": 5
}
