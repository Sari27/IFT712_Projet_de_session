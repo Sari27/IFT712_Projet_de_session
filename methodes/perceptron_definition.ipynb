{
 "cells": [
  {
   "cell_type": "code",
   "execution_count": 1,
   "id": "6e28e671",
   "metadata": {
    "pycharm": {
     "name": "#%%\n"
    }
   },
   "outputs": [],
   "source": [
    "import numpy as np\n",
    "from sklearn.linear_model import Perceptron\n",
    "\n",
    "\n",
    "class Perceptron_:\n",
    "    def __init__(self, penalty, learning_rate, alpha):\n",
    "        \n",
    "        self.penalty = penalty        # terme de régularisation, soit l1, soit l2, soit elasticnet\n",
    "        self.learning_rate = learning_rate  # constante par laquelle les mises à jour sont multipliées\n",
    "        self.alpha = alpha            # constante qui multiplie le terme de régularisation\n",
    "        self.p = None                 # contiendra le modèle perceptron\n",
    "        \n",
    "    \n",
    "    def train(self, x_train, t_train):\n",
    "        \"\"\"\n",
    "        Entraîne le Perceptron sur l'ensemble d'entraînement formé des\n",
    "        entrées ``x_train`` (un tableau 2D Numpy) et des étiquettes de \n",
    "        classe cibles ``t_train`` (un tableau 1D Numpy).\n",
    "        \n",
    "        Utilise la librairie sklearn pour effectuer une classification\n",
    "        à l'aide du perceptron\n",
    "\n",
    "        \"\"\"\n",
    "        self.p = Perceptron(penalty=self.penalty, alpha=self.alpha, \n",
    "                            eta0=self.learning_rate, early_stopping=True,\n",
    "                            validation_fraction=0.15, n_iter_no_change=15)\n",
    "        self.p.fit(x_train, t_train)\n",
    "        \n",
    "\n",
    "    def predict(self, x):\n",
    "        \"\"\"\n",
    "        Retourne la prédiction du perceptron.  \n",
    "        \"\"\"\n",
    "        return self.p.predict(x)\n",
    "\n",
    "\n",
    "    @staticmethod\n",
    "    def error(t, prediction):\n",
    "        \"\"\"\n",
    "        Retourne l'erreur de classification : nombre d'éléments\n",
    "        mal classés sur nombre d'éléments au total.\n",
    "        \"\"\"\n",
    "        nb_bad_pred = 0\n",
    "        array_t = np.array(t)\n",
    "        for i in range(array_t.shape[0]):\n",
    "            if(array_t[i] != prediction[i]):\n",
    "                nb_bad_pred += 1\n",
    "        return nb_bad_pred / array_t.shape[0]"
   ]
  },
  {
   "cell_type": "code",
   "execution_count": 1,
   "id": "555f2561",
   "metadata": {
    "pycharm": {
     "name": "#%%\n"
    }
   },
   "outputs": [],
   "source": []
  }
 ],
 "metadata": {
  "kernelspec": {
   "display_name": "Python 3 (ipykernel)",
   "language": "python",
   "name": "python3"
  },
  "language_info": {
   "codemirror_mode": {
    "name": "ipython",
    "version": 3
   },
   "file_extension": ".py",
   "mimetype": "text/x-python",
   "name": "python",
   "nbconvert_exporter": "python",
   "pygments_lexer": "ipython3",
   "version": "3.10.9"
  }
 },
 "nbformat": 4,
 "nbformat_minor": 5
}