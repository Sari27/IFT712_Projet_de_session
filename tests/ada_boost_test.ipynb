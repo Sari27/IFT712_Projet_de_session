{
 "cells": [
  {
   "cell_type": "code",
   "execution_count": 1,
   "outputs": [
    {
     "name": "stderr",
     "output_type": "stream",
     "text": [
      "C:\\Users\\LEGION\\AppData\\Local\\Packages\\PythonSoftwareFoundation.Python.3.10_qbz5n2kfra8p0\\LocalCache\\local-packages\\Python310\\site-packages\\nbformat\\__init__.py:92: MissingIDFieldWarning: Code cell is missing an id field, this will become a hard error in future nbformat versions. You may want to use `normalize()` on your notebooks before validations (available since nbformat 5.1.4). Previous versions of nbformat are fixing this issue transparently, and will stop doing so in the future.\n",
      "  validate(nb)\n"
     ]
    }
   ],
   "source": [
    "%run ../methodes/ada_boost_definition.ipynb import Ada_Boost_\n",
    "import pandas as pd\n",
    "\n",
    "# On récupère le dataframe d'entraînement stocké en mémoire\n",
    "%store -r df_train"
   ],
   "metadata": {
    "collapsed": false,
    "pycharm": {
     "name": "#%%\n"
    }
   }
  },
  {
   "cell_type": "code",
   "execution_count": 2,
   "outputs": [],
   "source": [
    "# Valeurs à tester : nombre d'estimateurs et taux d'apprentissage\n",
    "n_estimators_ = [10*i for i in range(5,10)]\n",
    "learning_rates = np.logspace(-3, 0.001, 10)"
   ],
   "metadata": {
    "collapsed": false,
    "pycharm": {
     "name": "#%%\n"
    }
   }
  },
  {
   "cell_type": "code",
   "execution_count": 3,
   "id": "2a461dce",
   "metadata": {
    "pycharm": {
     "name": "#%%\n"
    }
   },
   "outputs": [],
   "source": [
    "# Initialisation des meilleurs paramètres\n",
    "err_min = 100\n",
    "ada_boost_best_n_estimators = -2\n",
    "ada_boost_best_learning_rate = -2"
   ]
  },
  {
   "cell_type": "code",
   "execution_count": 4,
   "id": "7540cd00",
   "metadata": {
    "pycharm": {
     "name": "#%%\n"
    }
   },
   "outputs": [],
   "source": [
    "# Initialisation des tableaux pour l'analyse des données\n",
    "df_ab_train = pd.DataFrame(0, index = n_estimators_, columns = learning_rates)\n",
    "df_ab_test = pd.DataFrame(0, index = n_estimators_, columns = learning_rates)"
   ]
  },
  {
   "cell_type": "code",
   "execution_count": null,
   "id": "299b631c",
   "metadata": {
    "pycharm": {
     "name": "#%%\n",
     "is_executing": true
    }
   },
   "outputs": [],
   "source": [
    "%%capture --no-display\n",
    "%run utils.ipynb import K_Fold\n",
    "\n",
    "for n_estimators in n_estimators_:\n",
    "    for learning_rate in learning_rates:\n",
    "        \n",
    "        # Validation croisée avec K_Fold\n",
    "        err_train, err_test = K_Fold(10, df_train, Ada_Boost_(n_estimators, learning_rate))\n",
    "\n",
    "        # Calcul de l'erreur totale\n",
    "        err = (err_train + err_test) / 2 \n",
    "\n",
    "        # On garde les données en mémoire\n",
    "        df_ab_train[learning_rate][n_estimators] = err_train\n",
    "        df_ab_test[learning_rate][n_estimators] = err_test\n",
    "                \n",
    "        # On met à jour les meilleurs paramètres\n",
    "        if err < err_min:\n",
    "            err_min = err\n",
    "            ada_boost_best_n_estimators = n_estimators\n",
    "            ada_boost_best_learning_rate = learning_rate"
   ]
  },
  {
   "cell_type": "code",
   "execution_count": null,
   "id": "8cd28fd3",
   "metadata": {
    "pycharm": {
     "name": "#%%\n",
     "is_executing": true
    }
   },
   "outputs": [],
   "source": [
    "import matplotlib.pyplot as plt\n",
    "# Représentation graphique\n",
    "\n",
    "# Evolution de l'erreur moyenne en fonction du nombre d'estimateurs\n",
    "plt.subplot(2,1,1) \n",
    "plot_df(df_ab_train, df_ab_test, 'nombre d\\'estimateurs', 'index', True)\n",
    "\n",
    "# Evolution de l'erreur moyenne en fonction du learning rate\n",
    "plt.subplot(2,1,2) \n",
    "plot_df(df_ab_train, df_ab_test, 'learning rate', 'columns', True)"
   ]
  },
  {
   "cell_type": "code",
   "execution_count": null,
   "id": "e2317c8b",
   "metadata": {
    "pycharm": {
     "name": "#%%\n",
     "is_executing": true
    }
   },
   "outputs": [],
   "source": [
    "# Affichage des meilleurs hyperparamètres trouvés\n",
    "print('err_min : ', err_min, ' | best number of estimators : ', ada_boost_best_n_estimators, \n",
    "      ' | best learning rate : ', ada_boost_best_learning_rate)"
   ]
  },
  {
   "cell_type": "code",
   "execution_count": null,
   "id": "756fc013",
   "metadata": {
    "pycharm": {
     "name": "#%%\n",
     "is_executing": true
    }
   },
   "outputs": [],
   "source": [
    "# On stocke en mémoire les meilleurs hyperparamètres trouvés\n",
    "%store ada_boost_best_n_estimators\n",
    "%store ada_boost_best_learning_rate"
   ]
  }
 ],
 "metadata": {
  "kernelspec": {
   "display_name": "Python 3 (ipykernel)",
   "language": "python",
   "name": "python3"
  },
  "language_info": {
   "codemirror_mode": {
    "name": "ipython",
    "version": 3
   },
   "file_extension": ".py",
   "mimetype": "text/x-python",
   "name": "python",
   "nbconvert_exporter": "python",
   "pygments_lexer": "ipython3",
   "version": "3.10.2"
  }
 },
 "nbformat": 4,
 "nbformat_minor": 5
}