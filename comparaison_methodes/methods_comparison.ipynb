{
 "cells": [
  {
   "cell_type": "code",
   "execution_count": 4,
   "id": "6cf29bdf",
   "metadata": {
    "pycharm": {
     "name": "#%%\n"
    }
   },
   "outputs": [],
   "source": [
    "# On récupère les dataframes d'entraînement et de tests stockés en mémoire\n",
    "%store -r df_train\n",
    "%store -r df_test\n",
    "\n",
    "# On sépare les données de leur classe\n",
    "x_train = df_train.drop(columns=['species'])\n",
    "t_train = df_train['species']"
   ]
  },
  {
   "cell_type": "code",
   "execution_count": 5,
   "id": "da52ef67",
   "metadata": {
    "pycharm": {
     "name": "#%%\n"
    }
   },
   "outputs": [
    {
     "name": "stdout",
     "output_type": "stream",
     "text": [
      "no stored variable or alias perceptron_best_penalty\n",
      "no stored variable or alias perceptron_best_learning_rate\n",
      "no stored variable or alias perceptron_best_alpha\n",
      "no stored variable or alias neural_network_best_alpha\n",
      "no stored variable or alias k_neighbors_best_n\n",
      "no stored variable or alias k_neighbors_best_p\n",
      "no stored variable or alias support_vector_best_c\n",
      "no stored variable or alias decision_tree_best_criterion\n",
      "no stored variable or alias decision_tree_best_ccp_alpha\n",
      "no stored variable or alias ada_boost_best_n_estimators\n",
      "no stored variable or alias ada_boost_best_learning_rate\n"
     ]
    }
   ],
   "source": [
    "# On récupère les meilleurs hyperparamètres trouvés pour chaque méthode\n",
    "\n",
    "# Perceptron\n",
    "%store -r perceptron_best_penalty\n",
    "%store -r perceptron_best_learning_rate\n",
    "%store -r perceptron_best_alpha\n",
    "\n",
    "# Neural Network\n",
    "%store -r neural_network_best_alpha\n",
    "\n",
    "# K Neighbors\n",
    "%store -r k_neighbors_best_n\n",
    "%store -r k_neighbors_best_p\n",
    "\n",
    "# Support Vector\n",
    "%store -r support_vector_best_c\n",
    "\n",
    "# Decision Tree\n",
    "%store -r decision_tree_best_criterion\n",
    "%store -r decision_tree_best_ccp_alpha\n",
    "\n",
    "# Ada Boost\n",
    "%store -r ada_boost_best_n_estimators\n",
    "%store -r ada_boost_best_learning_rate"
   ]
  },
  {
   "cell_type": "code",
   "execution_count": 3,
   "id": "2912a13f",
   "metadata": {
    "pycharm": {
     "name": "#%%\n"
    }
   },
   "outputs": [
    {
     "ename": "NameError",
     "evalue": "name 'perceptron_best_penalty' is not defined",
     "output_type": "error",
     "traceback": [
      "\u001B[1;31m---------------------------------------------------------------------------\u001B[0m",
      "\u001B[1;31mNameError\u001B[0m                                 Traceback (most recent call last)",
      "Cell \u001B[1;32mIn[3], line 5\u001B[0m\n\u001B[0;32m      1\u001B[0m \u001B[38;5;66;03m# On applique chaque entraînement sur le dataset d'entraînement\u001B[39;00m\n\u001B[0;32m      2\u001B[0m \n\u001B[0;32m      3\u001B[0m \u001B[38;5;66;03m# Perceptron\u001B[39;00m\n\u001B[0;32m      4\u001B[0m get_ipython()\u001B[38;5;241m.\u001B[39mrun_line_magic(\u001B[38;5;124m'\u001B[39m\u001B[38;5;124mrun\u001B[39m\u001B[38;5;124m'\u001B[39m, \u001B[38;5;124m'\u001B[39m\u001B[38;5;124m../methodes/perceptron_definition.ipynb import Perceptron_\u001B[39m\u001B[38;5;124m'\u001B[39m)\n\u001B[1;32m----> 5\u001B[0m perceptron \u001B[38;5;241m=\u001B[39m Perceptron_(\u001B[43mperceptron_best_penalty\u001B[49m, perceptron_best_learning_rate, perceptron_best_alpha)\n\u001B[0;32m      6\u001B[0m perceptron\u001B[38;5;241m.\u001B[39mentrainement(x_train, t_train)\n\u001B[0;32m      8\u001B[0m \u001B[38;5;66;03m# Neural Network\u001B[39;00m\n",
      "\u001B[1;31mNameError\u001B[0m: name 'perceptron_best_penalty' is not defined"
     ]
    }
   ],
   "source": [
    "# On applique chaque entraînement sur le dataset d'entraînement\n",
    "\n",
    "# Perceptron\n",
    "%run ../methodes/perceptron_definition.ipynb import Perceptron_\n",
    "perceptron = Perceptron_(perceptron_best_penalty, perceptron_best_learning_rate, perceptron_best_alpha)\n",
    "perceptron.entrainement(x_train, t_train)\n",
    "\n",
    "# Neural Network\n",
    "%run ../methodes/neural_network_definition.ipynb import Neural_Network_\n",
    "neural_network = Neural_Network_(neural_network_best_alpha)\n",
    "neural_network.entrainement(x_train, t_train)\n",
    "\n",
    "# K Neighbors\n",
    "%run ../methodes/k_neighbors_definition.ipynb import K_Neighbors_\n",
    "k_neighbors = K_Neighbors_(k_neighbors_best_n, k_neighbors_best_p)\n",
    "k_neighbors.entrainement(x_train, t_train)\n",
    "\n",
    "# Support Vector\n",
    "%run ../methodes/support_vector_definition.ipynb import Support_Vector_\n",
    "support_vector = Support_Vector_(support_vector_best_c)\n",
    "support_vector.entrainement(x_train, t_train)\n",
    "\n",
    "# Decision Tree\n",
    "%run ../methodes/decision_tree_definition.ipynb import Decision_Tree_\n",
    "decision_tree = Decision_Tree_(decision_tree_best_criterion, decision_tree_best_ccp_alpha)\n",
    "decision_tree.entrainement(x_train, t_train)\n",
    "\n",
    "# Ada Boost\n",
    "%run ../methodes/ada_boost_definition.ipynb import Ada_Boost_\n",
    "ada_boost = Ada_Boost_(ada_boost_best_n_estimators, ada_boost_best_learning_rate)\n",
    "ada_boost.entrainement(x_train, t_train)"
   ]
  },
  {
   "cell_type": "code",
   "execution_count": null,
   "id": "8ea0520b",
   "metadata": {
    "pycharm": {
     "name": "#%%\n"
    }
   },
   "outputs": [],
   "source": [
    "# On effectue la prédiction avec chaque méthode sur l'ensemble de test\n",
    "\n",
    "# Perceptron\n",
    "perceptron_pred = perceptron.prediction(df_test)\n",
    "\n",
    "# Neural Network\n",
    "neural_network_pred = neural_network.prediction(df_test)\n",
    "\n",
    "# K Neighbors\n",
    "k_neighbors_pred = k_neighbors.prediction(df_test)\n",
    "\n",
    "# Support Vector\n",
    "support_vector_pred = support_vector.prediction(df_test)\n",
    "\n",
    "# Decision Tree\n",
    "decision_tree_pred = decision_tree.prediction(df_test)\n",
    "\n",
    "# Ada Boost\n",
    "ada_boost_pred = ada_boost.prediction(df_test)"
   ]
  },
  {
   "cell_type": "code",
   "execution_count": null,
   "id": "24a39ad3",
   "metadata": {
    "pycharm": {
     "name": "#%%\n"
    }
   },
   "outputs": [],
   "source": [
    "# Création d'un dataframe qui contient les prédictions de toutes les méthodes\n",
    "import pandas as pd\n",
    "all_pred_df = pd.DataFrame([perceptron_pred, neural_network_pred, k_neighbors_pred, support_vector_pred, \n",
    "                            decision_tree_pred, ada_boost_pred], index = ['perceptron', 'neural network',\n",
    "                                                                           'k_neighbors', 'support vector',\n",
    "                                                                           'decision tree', 'ada boost'])\n",
    "all_pred_df = all_pred_df.transpose()\n",
    "\n",
    "# On crée une colonne qui contient les prédictions les plus présentes pour chaque donnée\n",
    "all_pred_df['general'] = all_pred_df.mode(axis=1)[0]"
   ]
  },
  {
   "cell_type": "code",
   "execution_count": null,
   "id": "ecf3bf29",
   "metadata": {
    "pycharm": {
     "name": "#%%\n"
    }
   },
   "outputs": [],
   "source": [
    "# On crée une matrice de confusion entre chaque méthode\n",
    "# L'élément i,j représente le nombre de fois moyen que les méthodes i et j on prédit la même classe\n",
    "# On prend également en compte la colonne 'general'\n",
    "\n",
    "confusion_matrix = pd.DataFrame(0, index=all_pred_df.columns, columns=all_pred_df.columns)\n",
    "for index in confusion_matrix.index:\n",
    "    for column in confusion_matrix.columns:\n",
    "        confusion_matrix[column][index] = np.where(all_pred_df[column] == all_pred_df[index])[0].shape[0]\n",
    "confusion_matrix /= all_pred_df.shape[0] "
   ]
  },
  {
   "cell_type": "code",
   "execution_count": null,
   "id": "07305437",
   "metadata": {
    "pycharm": {
     "name": "#%%\n"
    }
   },
   "outputs": [],
   "source": [
    "# Affichage des résultats\n",
    "pd.options.display.float_format = '{:,.2f}'.format\n",
    "confusion_matrix"
   ]
  },
  {
   "cell_type": "code",
   "execution_count": null,
   "id": "bedae8d1",
   "metadata": {
    "pycharm": {
     "name": "#%%\n"
    }
   },
   "outputs": [],
   "source": []
  }
 ],
 "metadata": {
  "kernelspec": {
   "display_name": "Python 3 (ipykernel)",
   "language": "python",
   "name": "python3"
  },
  "language_info": {
   "codemirror_mode": {
    "name": "ipython",
    "version": 3
   },
   "file_extension": ".py",
   "mimetype": "text/x-python",
   "name": "python",
   "nbconvert_exporter": "python",
   "pygments_lexer": "ipython3",
   "version": "3.10.2"
  }
 },
 "nbformat": 4,
 "nbformat_minor": 5
}