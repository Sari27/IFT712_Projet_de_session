{
 "cells": [
  {
   "cell_type": "code",
   "execution_count": 1,
   "id": "85007b34",
   "metadata": {
    "pycharm": {
     "name": "#%%\n"
    }
   },
   "outputs": [],
   "source": [
    "from sklearn.model_selection import KFold\n",
    "\n",
    "# Définition des méthodes de validation croisée\n",
    "def K_Fold(k, df, method):\n",
    "    '''\n",
    "    Fonction qui applique la méthode de validation croisée\n",
    "    en important la méthode KFold de sickit-learn.model_selection.\n",
    "    \n",
    "    Paramètres : \n",
    "        k : nombre de folds\n",
    "        df : les données sur lesquelles on effectue le KFold\n",
    "        method : le modèle utilisé pour la classification\n",
    "        \n",
    "    Retourne :\n",
    "        err_train : la moyenne des erreurs d'entraînement\n",
    "        err_test : la moyenne des erreurs de test\n",
    "    '''\n",
    "    \n",
    "    # Pour obtenir de bons résultats on utilise la k-fold cross-validation\n",
    "    kf = KFold(n_splits=k)\n",
    "\n",
    "    # Initialisation de l'erreur moyenne pour les set train et test\n",
    "    err_train = 0\n",
    "    err_test = 0\n",
    "\n",
    "    # k-fold cross-validation sur les données d'entraînement\n",
    "    for train, test in kf.split(df):\n",
    "        x_train = df.iloc[train].drop(columns=['species'])\n",
    "        t_train = df.iloc[train]['species']\n",
    "        x_test = df.iloc[test].drop(columns=['species'])\n",
    "        t_test = df.iloc[test]['species']\n",
    "\n",
    "        # Initialisation du modèle\n",
    "        model = method\n",
    "\n",
    "        # Entraînement\n",
    "        model.train(x_train, t_train)\n",
    "\n",
    "        # Calcul de l'erreur d'entraînement\n",
    "        pred_train = model.predict(x_train)\n",
    "        err_train += model.error(t_train, pred_train)\n",
    "\n",
    "        # Calcul de l'erreur de test\n",
    "        pred_test = model.predict(x_test)\n",
    "        err_test += model.error(t_test, pred_test)\n",
    "\n",
    "    # On retourne les moyennes des erreurs d'entraînement et de test\n",
    "    return err_train / k, err_test / k"
   ]
  },
  {
   "cell_type": "code",
   "execution_count": 2,
   "outputs": [],
   "source": [
    "import matplotlib.pyplot as plt\n",
    "\n",
    "# Définition des méthodes d'affichage graphique des résultats\n",
    "\n",
    "def plot_df(df_train, df_test, xlabel, direction, mean):\n",
    "    '''\n",
    "    Fonction permettant d'afficher graphiquement le taux d'erreur moyen en fonction\n",
    "    des hyperparamètres d'une méthode, lorsque les données sont stockées sous forme\n",
    "    de dataframe.\n",
    "    \n",
    "    Paramètres :\n",
    "        df_train : dataframe de l'évolution de l'erreur en fonction des hyperparamètres\n",
    "                   durant l'entraînement\n",
    "        df_test : dataframe de l'évolution de l'erreur en fonction des hyperparamètres\n",
    "                   durant l'entraînement\n",
    "        xlabel : le nom de l'hyperparamètre observé\n",
    "        direction : 'index' ou 'columns' selon si l'évolution de l'hyperparamètre est montrée\n",
    "                     selon les lignes ou les colonnes\n",
    "        mean : booléen mis à true si le dataframe montre l'évolution de deux hyperparamètres\n",
    "               on montre alors l'évolution d'un hyperparamètre en prenant la moyenne de l'autre\n",
    "               sur les données\n",
    "    \n",
    "    Retourne : \n",
    "        Ne retourne pas de valeur, affiche simplement le graphique.\n",
    "    '''\n",
    "    \n",
    "    if direction == 'index':\n",
    "        if mean:\n",
    "            plt.plot(df_train.index, df_train.mean(axis=1), color='green', label='train')\n",
    "            plt.plot(df_test.index, df_test.mean(axis=1), color='red', label='test')\n",
    "        else:\n",
    "            plt.plot(df_train.index, df_train, color='green', label='train')\n",
    "            plt.plot(df_test.index, df_test, color='red', label='test')\n",
    "    else:\n",
    "        if mean:\n",
    "            plt.plot(df_train.columns, df_train.mean(axis=0), color='green', label='train')\n",
    "            plt.plot(df_test.columns, df_test.mean(axis=0), color='red', label='test')\n",
    "        else:\n",
    "            plt.plot(df_train.columns, df_train, color='green', label='train')\n",
    "            plt.plot(df_test.columns, df_test, color='red', label='test')\n",
    "    plt.xlabel(xlabel)\n",
    "    plt.ylabel('erreur')\n",
    "    plt.legend(loc=\"upper left\")"
   ],
   "metadata": {
    "collapsed": false,
    "pycharm": {
     "name": "#%%\n"
    }
   }
  }
 ],
 "metadata": {
  "kernelspec": {
   "display_name": "Python 3 (ipykernel)",
   "language": "python",
   "name": "python3"
  },
  "language_info": {
   "codemirror_mode": {
    "name": "ipython",
    "version": 3
   },
   "file_extension": ".py",
   "mimetype": "text/x-python",
   "name": "python",
   "nbconvert_exporter": "python",
   "pygments_lexer": "ipython3",
   "version": "3.10.2"
  }
 },
 "nbformat": 4,
 "nbformat_minor": 5
}