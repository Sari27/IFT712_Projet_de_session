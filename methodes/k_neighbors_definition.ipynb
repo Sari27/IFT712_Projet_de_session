{
 "cells": [
  {
   "cell_type": "code",
   "execution_count": 3,
   "id": "de250ce6",
   "metadata": {
    "pycharm": {
     "name": "#%%\n"
    }
   },
   "outputs": [],
   "source": [
    "import numpy as np\n",
    "from sklearn.neighbors import KNeighborsClassifier\n",
    "\n",
    "\n",
    "class K_Neighbors_:\n",
    "    def __init__(self, n_neighbors, p):\n",
    "        self.n_neighbors = n_neighbors  # nombre de voisins à considérer pour la classification\n",
    "        self.p = p                    # paramètre de puissance pour la métrique de minkowski\n",
    "        self.k_neighbors = None       # contiendra le modèle réseau de neurones\n",
    "        \n",
    "    \n",
    "    def train(self, x_train, t_train):\n",
    "        \"\"\"\n",
    "        Entraîne le modèle sur l'ensemble d'entraînement formé des\n",
    "        entrées ``x_train`` (un tableau 2D Numpy) et des étiquettes de \n",
    "        classe cibles ``t_train`` (un tableau 1D Numpy).\n",
    "        \n",
    "        Utilise la librairie sklearn pour effectuer une classification\n",
    "        à l'aide du k neighbors classifier\n",
    "\n",
    "        \"\"\"\n",
    "        self.k_neighbors = KNeighborsClassifier(n_neighbors = self.n_neighbors, p = self.p)\n",
    "        self.k_neighbors.fit(x_train, t_train)\n",
    "        \n",
    "\n",
    "    def predict(self, x):\n",
    "        \"\"\"\n",
    "        Retourne la prédiction du réseau de neurone.  \n",
    "        \"\"\"\n",
    "        return self.k_neighbors.predict(x)\n",
    "\n",
    "\n",
    "    @staticmethod\n",
    "    def error(t, prediction):\n",
    "        \"\"\"\n",
    "        Retourne l'erreur de classification : nombre d'éléments\n",
    "        mal classés sur nombre d'éléments au total.\n",
    "        \"\"\"\n",
    "        nb_bad_pred = 0\n",
    "        array_t = np.array(t)\n",
    "        for i in range(array_t.shape[0]):\n",
    "            if(array_t[i] != prediction[i]):\n",
    "                nb_bad_pred += 1\n",
    "        return nb_bad_pred / array_t.shape[0]\n",
    "    "
   ]
  },
  {
   "cell_type": "code",
   "execution_count": 3,
   "id": "785a2131",
   "metadata": {
    "pycharm": {
     "name": "#%%\n"
    }
   },
   "outputs": [],
   "source": []
  }
 ],
 "metadata": {
  "kernelspec": {
   "display_name": "Python 3 (ipykernel)",
   "language": "python",
   "name": "python3"
  },
  "language_info": {
   "codemirror_mode": {
    "name": "ipython",
    "version": 3
   },
   "file_extension": ".py",
   "mimetype": "text/x-python",
   "name": "python",
   "nbconvert_exporter": "python",
   "pygments_lexer": "ipython3",
   "version": "3.10.2"
  }
 },
 "nbformat": 4,
 "nbformat_minor": 5
}