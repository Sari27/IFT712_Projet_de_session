{
 "cells": [
  {
   "cell_type": "code",
   "execution_count": 1,
   "id": "0af27055",
   "metadata": {},
   "outputs": [],
   "source": [
    "import numpy as np\n",
    "from sklearn.tree import DecisionTreeClassifier\n",
    "\n",
    "\n",
    "class Decision_Tree_:\n",
    "    def __init__(self, criterion, ccp_alpha):\n",
    "        \n",
    "        self.criterion = criterion    # fonction mesurant la qualité de la classification\n",
    "        self.ccp_alpha = ccp_alpha    # paramètre utilisé pour le cout minimum de complexité pour l'élagage\n",
    "        self.dt = None                # contiendra le modèle d'arbre de décision\n",
    "        \n",
    "    \n",
    "    def entrainement(self, x_train, t_train):\n",
    "        \"\"\"\n",
    "        Entraîne l'arbre de décision sur l'ensemble d'entraînement formé des\n",
    "        entrées ``x_train`` (un tableau 2D Numpy) et des étiquettes de \n",
    "        classe cibles ``t_train`` (un tableau 1D Numpy).\n",
    "        \n",
    "        Utilise la librairie sklearn pour effectuer une classification\n",
    "        à l'aide de l'arbre de décision.\n",
    "\n",
    "        \"\"\"\n",
    "        self.dt = DecisionTreeClassifier(criterion=self.criterion, ccp_alpha=self.ccp_alpha,\n",
    "                                        splitter='random')\n",
    "        self.dt.fit(x_train, t_train)\n",
    "        \n",
    "\n",
    "    def prediction(self, x):\n",
    "        \"\"\"\n",
    "        Retourne la prédiction de l'arbre de décision.  \n",
    "        \"\"\"\n",
    "        return self.dt.predict(x)\n",
    "\n",
    "\n",
    "    @staticmethod\n",
    "    def erreur(t, prediction):\n",
    "        \"\"\"\n",
    "        Retourne l'erreur de classification : nombre d'éléments\n",
    "        mal classés sur nombre d'éléments au total.\n",
    "        \"\"\"\n",
    "        nb_bad_pred = 0\n",
    "        array_t = np.array(t)\n",
    "        for i in range(array_t.shape[0]):\n",
    "            if(array_t[i] != prediction[i]):\n",
    "                nb_bad_pred += 1\n",
    "        return nb_bad_pred / array_t.shape[0]\n",
    " "
   ]
  },
  {
   "cell_type": "code",
   "execution_count": null,
   "id": "0ca7adb4",
   "metadata": {},
   "outputs": [],
   "source": []
  }
 ],
 "metadata": {
  "kernelspec": {
   "display_name": "Python 3 (ipykernel)",
   "language": "python",
   "name": "python3"
  },
  "language_info": {
   "codemirror_mode": {
    "name": "ipython",
    "version": 3
   },
   "file_extension": ".py",
   "mimetype": "text/x-python",
   "name": "python",
   "nbconvert_exporter": "python",
   "pygments_lexer": "ipython3",
   "version": "3.10.2"
  }
 },
 "nbformat": 4,
 "nbformat_minor": 5
}
